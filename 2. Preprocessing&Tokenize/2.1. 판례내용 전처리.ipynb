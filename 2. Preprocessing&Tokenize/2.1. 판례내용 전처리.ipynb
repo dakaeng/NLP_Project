{
 "cells": [
  {
   "cell_type": "code",
   "execution_count": 1,
   "id": "6b5b7e7a",
   "metadata": {},
   "outputs": [],
   "source": [
    "import pandas as pd\n",
    "import numpy as np\n",
    "import re\n",
    "import warnings"
   ]
  },
  {
   "cell_type": "code",
   "execution_count": 2,
   "id": "e35eb3f0",
   "metadata": {},
   "outputs": [],
   "source": [
    "path = ''"
   ]
  },
  {
   "cell_type": "code",
   "execution_count": 3,
   "id": "62155fc7",
   "metadata": {},
   "outputs": [
    {
     "name": "stdout",
     "output_type": "stream",
     "text": [
      "<class 'pandas.core.frame.DataFrame'>\n",
      "RangeIndex: 2248 entries, 0 to 2247\n",
      "Data columns (total 15 columns):\n",
      " #   Column  Non-Null Count  Dtype \n",
      "---  ------  --------------  ----- \n",
      " 0   판례일련번호  2248 non-null   int64 \n",
      " 1   사건명     2248 non-null   object\n",
      " 2   사건번호    2248 non-null   object\n",
      " 3   선고일자    2248 non-null   object\n",
      " 4   법원명     2248 non-null   object\n",
      " 5   사건종류명   2248 non-null   object\n",
      " 6   사건종류코드  2248 non-null   int64 \n",
      " 7   판결유형    2248 non-null   object\n",
      " 8   선고      2248 non-null   object\n",
      " 9   판례상세링크  2248 non-null   object\n",
      " 10  판시사항    2248 non-null   object\n",
      " 11  판결요지    2248 non-null   object\n",
      " 12  참조조문    2248 non-null   object\n",
      " 13  참조판례    2246 non-null   object\n",
      " 14  판례내용    2248 non-null   object\n",
      "dtypes: int64(2), object(13)\n",
      "memory usage: 263.6+ KB\n"
     ]
    }
   ],
   "source": [
    "df = pd.read_csv(path + '/data/data.csv', encoding = 'cp949')\n",
    "df.info()"
   ]
  },
  {
   "cell_type": "markdown",
   "id": "cb80f572",
   "metadata": {},
   "source": [
    "# 1. 전처리"
   ]
  },
  {
   "cell_type": "markdown",
   "id": "a87bb8cb",
   "metadata": {},
   "source": [
    "## 1.1. 한자 &rightarrow; 한글 변환"
   ]
  },
  {
   "cell_type": "code",
   "execution_count": 4,
   "id": "ee19d253",
   "metadata": {},
   "outputs": [],
   "source": [
    "import hanja\n",
    "from hanja import hangul"
   ]
  },
  {
   "cell_type": "code",
   "execution_count": 5,
   "id": "5ff930c8",
   "metadata": {},
   "outputs": [],
   "source": [
    "df['X'] = df['판례내용'].apply(lambda x : hanja.translate(x, 'substitution'))"
   ]
  },
  {
   "cell_type": "markdown",
   "id": "15384ca3",
   "metadata": {},
   "source": [
    "## 1.2. 앞뒤 필요 없는 내용 제거"
   ]
  },
  {
   "cell_type": "markdown",
   "id": "184f9363",
   "metadata": {},
   "source": [
    "##### '유】' 또는 '유]'로 자르기"
   ]
  },
  {
   "cell_type": "code",
   "execution_count": 6,
   "id": "72cf02a7",
   "metadata": {},
   "outputs": [],
   "source": [
    "df['X'] = df['X'].apply(lambda x: ''.join(re.split(r'유】|유]', x)[1:]))"
   ]
  },
  {
   "cell_type": "markdown",
   "id": "996ff7d9",
   "metadata": {},
   "source": [
    "## 1.3. 숫자 전처리"
   ]
  },
  {
   "cell_type": "markdown",
   "id": "eee0f4ab",
   "metadata": {},
   "source": [
    "##### 대법원 1992. 12. 22. 선고 92다14779 판결 &rightarrow; 제거"
   ]
  },
  {
   "cell_type": "code",
   "execution_count": 7,
   "id": "0a5adfe3",
   "metadata": {},
   "outputs": [],
   "source": [
    "df['X'] = df['X'].apply(lambda x : re.sub('대법원 \\d{4}\\. \\d{1,2}\\. \\d{1,2}\\. 선고 \\S+ 판결', '', x))"
   ]
  },
  {
   "cell_type": "markdown",
   "id": "6acc19fe",
   "metadata": {},
   "source": [
    "##### 날짜 : 2020. 7. 15. &rightarrow; 제거"
   ]
  },
  {
   "cell_type": "code",
   "execution_count": 8,
   "id": "ccfcffe3",
   "metadata": {},
   "outputs": [],
   "source": [
    "df['X'] = df['X'].apply(lambda x : re.sub('\\d{4}\\. \\d{1,2}\\. \\d{1,2}\\.', '', x))"
   ]
  },
  {
   "cell_type": "markdown",
   "id": "21895cf6",
   "metadata": {},
   "source": [
    "##### 조항 : 정규표현식으로 제거\n",
    "제{숫자}조, 제{숫자}항, 제{숫자}호"
   ]
  },
  {
   "cell_type": "code",
   "execution_count": 9,
   "id": "fd89d3a0",
   "metadata": {},
   "outputs": [],
   "source": [
    "df['X'] = df['X'].apply(lambda x : re.sub('제\\\\d+[조항호]', '', x))"
   ]
  },
  {
   "cell_type": "markdown",
   "id": "004d6df0",
   "metadata": {},
   "source": [
    "##### 숫자 모두 제거(한글, 영어, 마침표만 남기기)"
   ]
  },
  {
   "cell_type": "code",
   "execution_count": 10,
   "id": "50ab1e3c",
   "metadata": {},
   "outputs": [],
   "source": [
    "df['X'] = df['X'].apply(lambda x : re.sub('[^A-Za-z가-힣. ]', '', x))"
   ]
  },
  {
   "cell_type": "markdown",
   "id": "4e5b4746",
   "metadata": {},
   "source": [
    "##### 가. 나. 다. 와 같은 부분 제거"
   ]
  },
  {
   "cell_type": "code",
   "execution_count": 11,
   "id": "d2bfeb45",
   "metadata": {},
   "outputs": [],
   "source": [
    "df['X'] = df['X'].apply(lambda x : re.sub('\\W[가나다라마바사].', '', x))"
   ]
  },
  {
   "cell_type": "code",
   "execution_count": 12,
   "id": "ebe7758a",
   "metadata": {},
   "outputs": [],
   "source": [
    "# 파일 저장\n",
    "df.to_csv(path + '/data/data_pre.csv', index = False, encoding = 'cp949')"
   ]
  }
 ],
 "metadata": {
  "kernelspec": {
   "display_name": "nlp_project",
   "language": "python",
   "name": "nlp_project"
  },
  "language_info": {
   "codemirror_mode": {
    "name": "ipython",
    "version": 3
   },
   "file_extension": ".py",
   "mimetype": "text/x-python",
   "name": "python",
   "nbconvert_exporter": "python",
   "pygments_lexer": "ipython3",
   "version": "3.7.16"
  }
 },
 "nbformat": 4,
 "nbformat_minor": 5
}

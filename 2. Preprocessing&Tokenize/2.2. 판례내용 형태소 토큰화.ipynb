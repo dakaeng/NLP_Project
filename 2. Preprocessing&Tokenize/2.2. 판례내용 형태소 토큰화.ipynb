{
 "cells": [
  {
   "cell_type": "code",
   "execution_count": 1,
   "id": "efc01588",
   "metadata": {},
   "outputs": [],
   "source": [
    "import pandas as pd\n",
    "import numpy as np\n",
    "import re\n",
    "\n",
    "import konlpy\n",
    "from konlpy.tag import Kkma"
   ]
  },
  {
   "cell_type": "code",
   "execution_count": 2,
   "id": "c5fcaeae",
   "metadata": {},
   "outputs": [],
   "source": [
    "path = ''"
   ]
  },
  {
   "cell_type": "code",
   "execution_count": 3,
   "id": "e128a73b",
   "metadata": {},
   "outputs": [
    {
     "name": "stdout",
     "output_type": "stream",
     "text": [
      "<class 'pandas.core.frame.DataFrame'>\n",
      "RangeIndex: 2248 entries, 0 to 2247\n",
      "Data columns (total 16 columns):\n",
      " #   Column  Non-Null Count  Dtype \n",
      "---  ------  --------------  ----- \n",
      " 0   판례일련번호  2248 non-null   int64 \n",
      " 1   사건명     2248 non-null   object\n",
      " 2   사건번호    2248 non-null   object\n",
      " 3   선고일자    2248 non-null   object\n",
      " 4   법원명     2248 non-null   object\n",
      " 5   사건종류명   2248 non-null   object\n",
      " 6   사건종류코드  2248 non-null   int64 \n",
      " 7   판결유형    2248 non-null   object\n",
      " 8   선고      2248 non-null   object\n",
      " 9   판례상세링크  2248 non-null   object\n",
      " 10  판시사항    2248 non-null   object\n",
      " 11  판결요지    2248 non-null   object\n",
      " 12  참조조문    2248 non-null   object\n",
      " 13  참조판례    2246 non-null   object\n",
      " 14  판례내용    2248 non-null   object\n",
      " 15  X       2248 non-null   object\n",
      "dtypes: int64(2), object(14)\n",
      "memory usage: 281.1+ KB\n"
     ]
    }
   ],
   "source": [
    "df = pd.read_csv(path + '/data/data_pre.csv', encoding = 'cp949')\n",
    "df.info()"
   ]
  },
  {
   "cell_type": "markdown",
   "id": "01969d86",
   "metadata": {},
   "source": [
    "Kkma 형태소 분석기를 사용하여 품사 태깅 진행"
   ]
  },
  {
   "cell_type": "markdown",
   "id": "2b16491f",
   "metadata": {},
   "source": [
    "# 2. 품사 태깅"
   ]
  },
  {
   "cell_type": "markdown",
   "id": "cb1d7df5",
   "metadata": {},
   "source": [
    "## 2.1. 품사별 단어 살펴보기"
   ]
  },
  {
   "cell_type": "markdown",
   "id": "c7c786ea",
   "metadata": {},
   "source": [
    "어떤 품사들을 분석에 사용할지 선택하기 위함"
   ]
  },
  {
   "cell_type": "code",
   "execution_count": 4,
   "id": "9f3a67f6",
   "metadata": {},
   "outputs": [],
   "source": [
    "kkma = Kkma()"
   ]
  },
  {
   "cell_type": "code",
   "execution_count": 5,
   "id": "4adba739",
   "metadata": {},
   "outputs": [],
   "source": [
    "# 10개의 판례를 이용해서 품사별 단어 살펴보기\n",
    "example = []\n",
    "for i in df['X'].iloc[0:10] :\n",
    "    example = example + kkma.pos(i)"
   ]
  },
  {
   "cell_type": "code",
   "execution_count": 6,
   "id": "29a278bd",
   "metadata": {},
   "outputs": [
    {
     "name": "stdout",
     "output_type": "stream",
     "text": [
      "{('일시', 'NNG'), ('완성', 'NNG'), ('구성', 'NNG'), ('침해', 'NNG'), ('생각', 'NNG'), ('매', 'NNG'), ('합의체', 'NNG'), ('회', 'NNG'), ('중인', 'NNG'), ('처벌', 'NNG'), ('거짓', 'NNG'), ('장', 'NNG'), ('환송', 'NNG'), ('전화', 'NNG'), ('진술', 'NNG'), ('전원', 'NNG'), ('실지', 'NNG'), ('의도', 'NNG'), ('선수', 'NNG'), ('직접', 'NNG'), ('노력', 'NNG'), ('객관적', 'NNG'), ('격자', 'NNG'), ('처리', 'NNG'), ('전과', 'NNG'), ('별건', 'NNG'), ('건강', 'NNG'), ('영치', 'NNG'), ('거래', 'NNG'), ('전단', 'NNG'), ('지시', 'NNG'), ('확정적', 'NNG'), ('심사', 'NNG'), ('의문점', 'NNG'), ('동기', 'NNG'), ('세탁', 'NNG'), ('내사', 'NNG'), ('엽주', 'NNG'), ('형식적', 'NNG'), ('개정', 'NNG'), ('과', 'NNG'), ('우발적', 'NNG'), ('업무', 'NNG'), ('결과', 'NNG'), ('실현', 'NNG'), ('심', 'NNG'), ('통신', 'NNG'), ('안', 'NNG'), ('평소', 'NNG'), ('제반', 'NNG'), ('상대', 'NNG'), ('가량', 'NNG'), ('관련', 'NNG'), ('절도', 'NNG'), ('진실', 'NNG'), ('시장', 'NNG'), ('하나', 'NNG'), ('이바지', 'NNG'), ('기재', 'NNG'), ('취득', 'NNG'), ('정상', 'NNG'), ('시행', 'NNG'), ('확장', 'NNG'), ('악', 'NNG'), ('환경', 'NNG'), ('원용', 'NNG'), ('전소', 'NNG'), ('현저', 'NNG'), ('조성', 'NNG'), ('원칙', 'NNG'), ('청구', 'NNG'), ('정화', 'NNG'), ('묵비', 'NNG'), ('이때', 'NNG'), ('포함', 'NNG'), ('임의', 'NNG'), ('불법', 'NNG'), ('정의', 'NNG'), ('차원', 'NNG'), ('답변', 'NNG'), ('속심', 'NNG'), ('취한', 'NNG'), ('특성', 'NNG'), ('말', 'NNG'), ('수법', 'NNG'), ('위반죄', 'NNG'), ('입금', 'NNG'), ('들', 'NNG'), ('제출', 'NNG'), ('미', 'NNG'), ('민무늬', 'NNG'), ('후단', 'NNG'), ('지장', 'NNG'), ('절차', 'NNG'), ('고의', 'NNG'), ('기소', 'NNG'), ('불', 'NNG'), ('자가', 'NNG'), ('존경', 'NNG'), ('야', 'NNG'), ('전문', 'NNG'), ('걱정', 'NNG'), ('이자', 'NNG'), ('지방', 'NNG'), ('그로', 'NNG'), ('로', 'NNG'), ('조서', 'NNG'), ('전자', 'NNG'), ('면탈', 'NNG'), ('검사도', 'NNG'), ('보고', 'NNG'), ('대상인', 'NNG'), ('탈법', 'NNG'), ('정도', 'NNG'), ('민원실', 'NNG'), ('촬영', 'NNG'), ('간격', 'NNG'), ('우회적', 'NNG'), ('등', 'NNG'), ('채택', 'NNG'), ('이유서', 'NNG'), ('전달', 'NNG'), ('공범', 'NNG'), ('요청', 'NNG'), ('결정', 'NNG'), ('직권', 'NNG'), ('방지', 'NNG'), ('고객', 'NNG'), ('개', 'NNG'), ('주위', 'NNG'), ('물이', 'NNG'), ('제', 'NNG'), ('인은', 'NNG'), ('부족분', 'NNG'), ('양', 'NNG'), ('심이', 'NNG'), ('일정', 'NNG'), ('처분', 'NNG'), ('송달', 'NNG'), ('자유', 'NNG'), ('자백', 'NNG'), ('현행범', 'NNG'), ('박', 'NNG'), ('확인', 'NNG'), ('연령', 'NNG'), ('징역', 'NNG'), ('유사', 'NNG'), ('현황', 'NNG'), ('직후', 'NNG'), ('양형', 'NNG'), ('해방', 'NNG'), ('금융업', 'NNG'), ('지적', 'NNG'), ('정', 'NNG'), ('전제', 'NNG'), ('옆', 'NNG'), ('배척', 'NNG'), ('의견서', 'NNG'), ('쟁점', 'NNG'), ('제외', 'NNG'), ('때', 'NNG'), ('자의', 'NNG'), ('국외', 'NNG'), ('허용', 'NNG'), ('시한', 'NNG'), ('상의', 'NNG'), ('이름', 'NNG'), ('증인', 'NNG'), ('번호', 'NNG'), ('내지', 'NNG'), ('보관자', 'NNG'), ('유리', 'NNG'), ('방조범', 'NNG'), ('권', 'NNG'), ('연주', 'NNG'), ('전기', 'NNG'), ('예비적', 'NNG'), ('오해', 'NNG'), ('성폭력', 'NNG'), ('사실', 'NNG'), ('은행', 'NNG'), ('부당', 'NNG'), ('기망', 'NNG'), ('법조', 'NNG'), ('종합적', 'NNG'), ('부인', 'NNG'), ('기록', 'NNG'), ('지', 'NNG'), ('강제', 'NNG'), ('일죄', 'NNG'), ('피기', 'NNG'), ('남', 'NNG'), ('불법적', 'NNG'), ('기인', 'NNG'), ('소유물', 'NNG'), ('범', 'NNG'), ('심적', 'NNG'), ('성립', 'NNG'), ('손해', 'NNG'), ('개인적', 'NNG'), ('파기', 'NNG'), ('이내', 'NNG'), ('주문', 'NNG'), ('봄', 'NNG'), ('세의', 'NNG'), ('볼', 'NNG'), ('법률', 'NNG'), ('이지만', 'NNG'), ('취지', 'NNG'), ('항소장', 'NNG'), ('외위', 'NNG'), ('근거', 'NNG'), ('필요', 'NNG'), ('재정', 'NNG'), ('르', 'NNG'), ('원심', 'NNG'), ('인', 'NNG'), ('당시', 'NNG'), ('필요성', 'NNG'), ('공중', 'NNG'), ('횟수', 'NNG'), ('갈색', 'NNG'), ('합리', 'NNG'), ('의견', 'NNG'), ('진행', 'NNG'), ('제한', 'NNG'), ('항소', 'NNG'), ('며칠', 'NNG'), ('매장', 'NNG'), ('후', 'NNG'), ('정보', 'NNG'), ('전반', 'NNG'), ('수집', 'NNG'), ('명의인', 'NNG'), ('지급률', 'NNG'), ('자발적', 'NNG'), ('일시적', 'NNG'), ('출물', 'NNG'), ('노', 'NNG'), ('구조', 'NNG'), ('재활', 'NNG'), ('자력', 'NNG'), ('판매', 'NNG'), ('지로', 'NNG'), ('요소', 'NNG'), ('점', 'NNG'), ('기각', 'NNG'), ('앞', 'NNG'), ('소송법', 'NNG'), ('명의', 'NNG'), ('매매', 'NNG'), ('대상', 'NNG'), ('연금', 'NNG'), ('행위', 'NNG'), ('형사', 'NNG'), ('국', 'NNG'), ('취급', 'NNG'), ('창의', 'NNG'), ('지급', 'NNG'), ('서로', 'NNG'), ('병', 'NNG'), ('조항', 'NNG'), ('단지', 'NNG'), ('변호사', 'NNG'), ('약정', 'NNG'), ('시세', 'NNG'), ('추가', 'NNG'), ('언동', 'NNG'), ('대각선', 'NNG'), ('승낙', 'NNG'), ('법', 'NNG'), ('곽', 'NNG'), ('경험칙', 'NNG'), ('자산', 'NNG'), ('상황', 'NNG'), ('여신', 'NNG'), ('수급', 'NNG'), ('적법', 'NNG'), ('피의자', 'NNG'), ('열거', 'NNG'), ('부여', 'NNG'), ('관여', 'NNG'), ('있음', 'NNG'), ('존재', 'NNG'), ('타', 'NNG'), ('소재', 'NNG'), ('제출자', 'NNG'), ('성', 'NNG'), ('죄명', 'NNG'), ('업체', 'NNG'), ('전', 'NNG'), ('연결', 'NNG'), ('조치', 'NNG'), ('획득', 'NNG'), ('심급', 'NNG'), ('인도', 'NNG'), ('방법', 'NNG'), ('일람표', 'NNG'), ('상태', 'NNG'), ('사기', 'NNG'), ('권이', 'NNG'), ('노태', 'NNG'), ('외', 'NNG'), ('조하', 'NNG'), ('엠보싱', 'NNG'), ('기존', 'NNG'), ('회피', 'NNG'), ('기초', 'NNG'), ('번의', 'NNG'), ('오인', 'NNG'), ('해석', 'NNG'), ('경험', 'NNG'), ('체류', 'NNG'), ('과도', 'NNG'), ('가격', 'NNG'), ('자로', 'NNG'), ('공소장', 'NNG'), ('정지', 'NNG'), ('건전', 'NNG'), ('고소장', 'NNG'), ('국민', 'NNG'), ('수긍', 'NNG'), ('임의적', 'NNG'), ('소유자', 'NNG'), ('특례법', 'NNG'), ('대납', 'NNG'), ('형', 'NNG'), ('착각', 'NNG'), ('몸', 'NNG'), ('법관', 'NNG'), ('철상', 'NNG'), ('길', 'NNG'), ('전형적', 'NNG'), ('일주일', 'NNG'), ('항', 'NNG'), ('관련성', 'NNG'), ('자인', 'NNG'), ('경우', 'NNG'), ('수익', 'NNG'), ('생략', 'NNG'), ('법칙', 'NNG'), ('한국', 'NNG'), ('연장', 'NNG'), ('층', 'NNG'), ('손님', 'NNG'), ('수령', 'NNG'), ('정한', 'NNG'), ('사례비', 'NNG'), ('체결', 'NNG'), ('유', 'NNG'), ('이익', 'NNG'), ('연기', 'NNG'), ('종결', 'NNG'), ('비로', 'NNG'), ('상지', 'NNG'), ('점유', 'NNG'), ('유예', 'NNG'), ('차이', 'NNG'), ('성명', 'NNG'), ('비자금', 'NNG'), ('반환', 'NNG'), ('강원', 'NNG'), ('세은', 'NNG'), ('불리', 'NNG'), ('변호인', 'NNG'), ('매수', 'NNG'), ('민사', 'NNG'), ('금지', 'NNG'), ('실질', 'NNG'), ('점유자', 'NNG'), ('잠정적', 'NNG'), ('조건', 'NNG'), ('용도', 'NNG'), ('등록', 'NNG'), ('비교', 'NNG'), ('변론', 'NNG'), ('우리나라', 'NNG'), ('민법', 'NNG'), ('내역', 'NNG'), ('재판장', 'NNG'), ('이유', 'NNG'), ('우편', 'NNG'), ('본문', 'NNG'), ('원권', 'NNG'), ('요구', 'NNG'), ('매입', 'NNG'), ('한로', 'NNG'), ('목적', 'NNG'), ('체크', 'NNG'), ('배제', 'NNG'), ('확정', 'NNG'), ('범의', 'NNG'), ('표상', 'NNG'), ('효과', 'NNG'), ('갑을', 'NNG'), ('동일', 'NNG'), ('규율', 'NNG'), ('변경', 'NNG'), ('거래법', 'NNG'), ('미필', 'NNG'), ('운영', 'NNG'), ('이전', 'NNG'), ('의문', 'NNG'), ('구체적', 'NNG'), ('해당', 'NNG'), ('보조금', 'NNG'), ('최후', 'NNG'), ('현장', 'NNG'), ('채', 'NNG'), ('체포', 'NNG'), ('공', 'NNG'), ('책임', 'NNG'), ('은닉', 'NNG'), ('중의', 'NNG'), ('일치', 'NNG'), ('환매', 'NNG'), ('오', 'NNG'), ('영장', 'NNG'), ('법이', 'NNG'), ('위', 'NNG'), ('종전', 'NNG'), ('액', 'NNG'), ('지원', 'NNG'), ('규제', 'NNG'), ('영업', 'NNG'), ('계획', 'NNG'), ('폐업', 'NNG'), ('천대', 'NNG'), ('상각', 'NNG'), ('날짜', 'NNG'), ('판단', 'NNG'), ('권한', 'NNG'), ('압수', 'NNG'), ('성공', 'NNG'), ('포탈', 'NNG'), ('소환장', 'NNG'), ('경영', 'NNG'), ('임', 'NNG'), ('색깔', 'NNG'), ('제의', 'NNG'), ('체인점', 'NNG'), ('계약', 'NNG'), ('공시', 'NNG'), ('의무', 'NNG'), ('집행', 'NNG'), ('유숙', 'NNG'), ('상당', 'NNG'), ('성도', 'NNG'), ('별개', 'NNG'), ('권리', 'NNG'), ('동시', 'NNG'), ('벌칙', 'NNG'), ('신설', 'NNG'), ('조세', 'NNG'), ('본', 'NNG'), ('서도', 'NNG'), ('논리적', 'NNG'), ('추정', 'NNG'), ('권능', 'NNG'), ('요양', 'NNG'), ('자동', 'NNG'), ('형부', 'NNG'), ('등록증', 'NNG'), ('형평', 'NNG'), ('실명', 'NNG'), ('신문', 'NNG'), ('법원', 'NNG'), ('시가', 'NNG'), ('기반', 'NNG'), ('뒷받침', 'NNG'), ('본질적', 'NNG'), ('관', 'NNG'), ('소극적', 'NNG'), ('증거', 'NNG'), ('기관', 'NNG'), ('위반', 'NNG'), ('수단', 'NNG'), ('방조', 'NNG'), ('우체통', 'NNG'), ('계좌', 'NNG'), ('정리', 'NNG'), ('적법성', 'NNG'), ('명령', 'NNG'), ('내용물', 'NNG'), ('강남', 'NNG'), ('상고', 'NNG'), ('은', 'NNG'), ('과거', 'NNG'), ('제안', 'NNG'), ('타인', 'NNG'), ('카드', 'NNG'), ('신중', 'NNG'), ('과정', 'NNG'), ('악용', 'NNG'), ('관리자', 'NNG'), ('적극적', 'NNG'), ('선임', 'NNG'), ('피해자', 'NNG'), ('종료', 'NNG'), ('현행', 'NNG'), ('대당', 'NNG'), ('방어', 'NNG'), ('란', 'NNG'), ('입장', 'NNG'), ('물', 'NNG'), ('벌', 'NNG'), ('만이', 'NNG'), ('피고인', 'NNG'), ('중', 'NNG'), ('효력', 'NNG'), ('인출', 'NNG'), ('결국', 'NNG'), ('합의서', 'NNG'), ('남성용', 'NNG'), ('한', 'NNG'), ('대법원', 'NNG'), ('배치', 'NNG'), ('집행법', 'NNG'), ('편지', 'NNG'), ('당해', 'NNG'), ('물건', 'NNG'), ('참고인', 'NNG'), ('조장', 'NNG'), ('죄형', 'NNG'), ('의제', 'NNG'), ('심증', 'NNG'), ('도피', 'NNG'), ('묵시', 'NNG'), ('지갑', 'NNG'), ('일은', 'NNG'), ('차', 'NNG'), ('수색', 'NNG'), ('영업장', 'NNG'), ('미상', 'NNG'), ('정황', 'NNG'), ('사', 'NNG'), ('보태', 'NNG'), ('설시', 'NNG'), ('이후', 'NNG'), ('면허증', 'NNG'), ('금융', 'NNG'), ('변', 'NNG'), ('비난', 'NNG'), ('편취', 'NNG'), ('표제', 'NNG'), ('구분', 'NNG'), ('동거', 'NNG'), ('대표자인', 'NNG'), ('처분권', 'NNG'), ('평가', 'NNG'), ('의', 'NNG'), ('행세', 'NNG'), ('허가', 'NNG'), ('상', 'NNG'), ('소지품', 'NNG'), ('외인', 'NNG'), ('습득', 'NNG'), ('조달', 'NNG'), ('제공', 'NNG'), ('비용', 'NNG'), ('변제', 'NNG'), ('록', 'NNG'), ('시효', 'NNG'), ('대여', 'NNG'), ('적인', 'NNG'), ('소지자', 'NNG'), ('구매', 'NNG'), ('협박', 'NNG'), ('심판', 'NNG'), ('회사', 'NNG'), ('상자', 'NNG'), ('인출기', 'NNG'), ('실시', 'NNG'), ('약속', 'NNG'), ('가능성', 'NNG'), ('경찰관', 'NNG'), ('매개', 'NNG'), ('잇', 'NNG'), ('의미', 'NNG'), ('일관', 'NNG'), ('주의', 'NNG'), ('범위', 'NNG'), ('총', 'NNG'), ('부재', 'NNG'), ('경합', 'NNG'), ('착수금', 'NNG'), ('밖', 'NNG'), ('제기', 'NNG'), ('편의', 'NNG'), ('전항', 'NNG'), ('구체', 'NNG'), ('허위', 'NNG'), ('각호', 'NNG'), ('공판', 'NNG'), ('무죄', 'NNG'), ('사유', 'NNG'), ('가치', 'NNG'), ('대비', 'NNG'), ('부담', 'NNG'), ('정범', 'NNG'), ('법의', 'NNG'), ('피해', 'NNG'), ('교부', 'NNG'), ('민', 'NNG'), ('면', 'NNG'), ('증거인', 'NNG'), ('돈', 'NNG'), ('모', 'NNG'), ('출근', 'NNG'), ('추가적', 'NNG'), ('법정', 'NNG'), ('자기', 'NNG'), ('의심', 'NNG'), ('방', 'NNG'), ('순번', 'NNG'), ('출하', 'NNG'), ('적용', 'NNG'), ('우산', 'NNG'), ('경찰서', 'NNG'), ('차용금', 'NNG'), ('업', 'NNG'), ('을', 'NNG'), ('자금', 'NNG'), ('탈취', 'NNG'), ('납부', 'NNG'), ('대금', 'NNG'), ('서', 'NNG'), ('형법', 'NNG'), ('개시', 'NNG'), ('신청', 'NNG'), ('공판정', 'NNG'), ('경제', 'NNG'), ('명령형', 'NNG'), ('운전', 'NNG'), ('법인', 'NNG'), ('유죄', 'NNG'), ('규정', 'NNG'), ('상상', 'NNG'), ('직전', 'NNG'), ('당로', 'NNG'), ('보이', 'NNG'), ('요지', 'NNG'), ('심리', 'NNG'), ('시점', 'NNG'), ('감안', 'NNG'), ('큰돈', 'NNG'), ('합계', 'NNG'), ('피해액', 'NNG'), ('정상화', 'NNG'), ('세액', 'NNG'), ('출정', 'NNG'), ('환전', 'NNG'), ('항소인', 'NNG'), ('행위자', 'NNG'), ('비품', 'NNG'), ('주관적', 'NNG'), ('송금', 'NNG'), ('조사', 'NNG'), ('작성', 'NNG'), ('적', 'NNG'), ('통지', 'NNG'), ('고지', 'NNG'), ('선택', 'NNG'), ('전력', 'NNG'), ('생활비', 'NNG'), ('재정법', 'NNG'), ('법리', 'NNG'), ('논증', 'NNG'), ('경찰', 'NNG'), ('내', 'NNG'), ('서신', 'NNG'), ('사용', 'NNG'), ('재연', 'NNG'), ('재범', 'NNG'), ('반성', 'NNG'), ('협회', 'NNG'), ('실질적', 'NNG'), ('횡령', 'NNG'), ('범죄', 'NNG'), ('박정', 'NNG'), ('유류', 'NNG'), ('광고', 'NNG'), ('휴대', 'NNG'), ('범인', 'NNG'), ('망', 'NNG'), ('신용', 'NNG'), ('계산', 'NNG'), ('외국환', 'NNG'), ('주인', 'NNG'), ('시인', 'NNG'), ('피고', 'NNG'), ('경과', 'NNG'), ('형벌권', 'NNG'), ('구입', 'NNG'), ('이제', 'NNG'), ('불필요', 'NNG'), ('구', 'NNG'), ('자', 'NNG'), ('문언', 'NNG'), ('시일', 'NNG'), ('당일', 'NNG'), ('법무', 'NNG'), ('항소심', 'NNG'), ('정숙', 'NNG'), ('징표', 'NNG'), ('검사', 'NNG'), ('저지', 'NNG'), ('지에', 'NNG'), ('유한', 'NNG'), ('동종', 'NNG'), ('압수물', 'NNG'), ('잠시', 'NNG'), ('증명력', 'NNG'), ('금액', 'NNG'), ('여부', 'NNG'), ('증언', 'NNG'), ('대', 'NNG'), ('판결', 'NNG'), ('착오', 'NNG'), ('매도', 'NNG'), ('예견', 'NNG'), ('최종적', 'NNG'), ('원', 'NNG'), ('오픈', 'NNG'), ('소송', 'NNG'), ('카메라', 'NNG'), ('부양', 'NNG'), ('벌금', 'NNG'), ('철거', 'NNG'), ('외이', 'NNG'), ('종합', 'NNG'), ('은폐', 'NNG'), ('규칙', 'NNG'), ('동안', 'NNG'), ('대질', 'NNG'), ('속', 'NNG'), ('선고', 'NNG'), ('중앙', 'NNG'), ('관계', 'NNG'), ('문구', 'NNG'), ('위법', 'NNG'), ('면허', 'NNG'), ('통화', 'NNG'), ('침탈', 'NNG'), ('증상', 'NNG'), ('주장', 'NNG'), ('금', 'NNG'), ('대체', 'NNG'), ('판사', 'NNG'), ('이하', 'NNG'), ('본사', 'NNG'), ('유일한', 'NNG'), ('액수', 'NNG'), ('약사법', 'NNG'), ('유지', 'NNG'), ('간접', 'NNG'), ('대법관', 'NNG'), ('처', 'NNG'), ('직접적', 'NNG'), ('부합', 'NNG'), ('잘못', 'NNG'), ('조재', 'NNG'), ('검정색', 'NNG'), ('양지', 'NNG'), ('포항', 'NNG'), ('춘천', 'NNG'), ('이용', 'NNG'), ('터', 'NNG'), ('인식', 'NNG'), ('수사', 'NNG'), ('감도', 'NNG'), ('해', 'NNG'), ('신의칙', 'NNG'), ('위란', 'NNG'), ('출석', 'NNG'), ('경', 'NNG'), ('기일', 'NNG'), ('계약서', 'NNG'), ('보험법', 'NNG'), ('면소', 'NNG'), ('결론', 'NNG'), ('한편', 'NNG'), ('지불', 'NNG'), ('수입', 'NNG'), ('자신', 'NNG'), ('동원', 'NNG'), ('여지', 'NNG'), ('재판', 'NNG'), ('신속', 'NNG'), ('지출', 'NNG'), ('유치', 'NNG'), ('확신', 'NNG'), ('모두', 'NNG'), ('아래', 'NNG'), ('주소', 'NNG'), ('측면', 'NNG'), ('선생님', 'NNG'), ('불소급', 'NNG'), ('징역형', 'NNG'), ('공제', 'NNG'), ('조', 'NNG'), ('주고', 'NNG'), ('약사', 'NNG'), ('초과', 'NNG'), ('외형', 'NNG'), ('중고', 'NNG'), ('실제', 'NNG'), ('날', 'NNG'), ('함', 'NNG'), ('역할', 'NNG'), ('값', 'NNG'), ('인용', 'NNG'), ('대나', 'NNG'), ('보고서', 'NNG'), ('존부', 'NNG'), ('운영자', 'NNG'), ('의사', 'NNG'), ('데', 'NNG'), ('방식', 'NNG'), ('분과', 'NNG'), ('행사', 'NNG'), ('요건', 'NNG'), ('명의자', 'NNG'), ('도로', 'NNG'), ('짐작', 'NNG'), ('장소', 'NNG'), ('절취', 'NNG'), ('명', 'NNG'), ('선금', 'NNG'), ('인의', 'NNG'), ('공범자', 'NNG'), ('부족', 'NNG'), ('영향', 'NNG'), ('흥', 'NNG'), ('수용', 'NNG'), ('간주', 'NNG'), ('시간적', 'NNG'), ('제회', 'NNG'), ('부분', 'NNG'), ('합리적', 'NNG'), ('망자', 'NNG'), ('법령', 'NNG'), ('발전', 'NNG'), ('인수', 'NNG'), ('인과', 'NNG'), ('스크린', 'NNG'), ('연속', 'NNG'), ('별지', 'NNG'), ('중간', 'NNG'), ('매가', 'NNG'), ('공소', 'NNG'), ('재산', 'NNG'), ('수수료', 'NNG'), ('입법', 'NNG'), ('영득', 'NNG'), ('경합범', 'NNG'), ('예외적', 'NNG'), ('벌금형', 'NNG'), ('발견', 'NNG'), ('지위', 'NNG'), ('보장', 'NNG'), ('고을', 'NNG'), ('급여', 'NNG'), ('재물', 'NNG'), ('기능', 'NNG'), ('시간', 'NNG'), ('자료', 'NNG'), ('신빙성', 'NNG'), ('유발', 'NNG'), ('환', 'NNG'), ('서울시', 'NNG'), ('도모', 'NNG'), ('결재', 'NNG'), ('실체적', 'NNG'), ('라', 'NNG'), ('진', 'NNG'), ('명시', 'NNG'), ('절도죄', 'NNG'), ('논리', 'NNG'), ('약국', 'NNG'), ('교도소', 'NNG'), ('실행', 'NNG'), ('질문', 'NNG'), ('심의', 'NNG'), ('별', 'NNG'), ('문자', 'NNG'), ('모습', 'NNG'), ('오기', 'NNG'), ('예금', 'NNG'), ('신원', 'NNG'), ('내용', 'NNG'), ('소외', 'NNG'), ('간', 'NNG'), ('접수', 'NNG'), ('답변서', 'NNG'), ('비', 'NNG'), ('능력', 'NNG'), ('감가', 'NNG'), ('한정', 'NNG'), ('성행', 'NNG'), ('당', 'NNG'), ('주민', 'NNG'), ('결제', 'NNG'), ('도', 'NNG'), ('특정', 'NNG'), ('방문', 'NNG'), ('연행', 'NNG'), ('법규', 'NNG'), ('거짓말', 'NNG'), ('단정', 'NNG'), ('스톡', 'NNG'), ('발부', 'NNG'), ('가', 'NNG'), ('인정', 'NNG'), ('대답', 'NNG'), ('공통', 'NNG'), ('이', 'NNG'), ('예치', 'NNG'), ('증명', 'NNG'), ('부칙', 'NNG'), ('론', 'NNG'), ('주심', 'NNG'), ('형벌', 'NNG'), ('뒤', 'NNG'), ('직원', 'NNG'), ('고', 'NNG'), ('비밀', 'NNG'), ('판시', 'NNG'), ('승마', 'NNG'), ('포괄', 'NNG'), ('반지', 'NNG'), ('노역장', 'NNG'), ('보강', 'NNG'), ('정덕', 'NNG'), ('이동', 'NNG'), ('자체', 'NNG'), ('법정형', 'NNG'), ('납득', 'NNG'), ('김', 'NNG'), ('월', 'NNG'), ('범행', 'NNG'), ('협조', 'NNG'), ('위험', 'NNG'), ('우체국', 'NNG'), ('고소인', 'NNG'), ('형성', 'NNG'), ('일', 'NNG'), ('보관', 'NNG'), ('오경', 'NNG'), ('봉직', 'NNG'), ('한계', 'NNG'), ('경위', 'NNG'), ('무늬', 'NNG'), ('촌', 'NNG'), ('일부', 'NNG'), ('근무', 'NNG'), ('죄', 'NNG'), ('반면', 'NNG'), ('기계', 'NNG'), ('성의', 'NNG'), ('적정', 'NNG'), ('부정', 'NNG'), ('이외', 'NNG'), ('당부', 'NNG'), ('진폐', 'NNG'), ('기간', 'NNG'), ('전부', 'NNG'), ('유무', 'NNG'), ('이상', 'NNG'), ('이례적', 'NNG'), ('차등', 'NNG'), ('현금', 'NNG'), ('이중', 'NNG'), ('갑', 'NNG'), ('의과', 'NNG'), ('불상', 'NNG'), ('기구', 'NNG'), ('시뮬레이터', 'NNG'), ('참조', 'NNG'), ('임대차', 'NNG')}\n"
     ]
    }
   ],
   "source": [
    "# 품사별로 단어들을 살펴보며 의미를 담고 있는 품사는 분석에 사용하기로 함\n",
    "search = 'NNG'  # ex. NNG : 보통명사\n",
    "\n",
    "search_list = []\n",
    "for i in example :\n",
    "    if search == i[1] :\n",
    "        search_list.append(i)\n",
    "print(set(search_list))"
   ]
  },
  {
   "cell_type": "markdown",
   "id": "71755b69",
   "metadata": {},
   "source": [
    "## 2.2. 형태소 토큰화"
   ]
  },
  {
   "cell_type": "markdown",
   "id": "e7aa6bc8",
   "metadata": {},
   "source": [
    "**보통명사(NNG), 동사(VV), 형용사(VA), 어근(XR), 외국어(OL), 보조 동사(VXV), 체언 접두사(XPN)** 만 분석에 사용"
   ]
  },
  {
   "cell_type": "code",
   "execution_count": 7,
   "id": "9dee333b",
   "metadata": {},
   "outputs": [],
   "source": [
    "use_tags = ['NNG', 'VV', 'VA', 'XR', 'OL', 'VXV', 'XPN']"
   ]
  },
  {
   "cell_type": "code",
   "execution_count": 8,
   "id": "cfa9ffc0",
   "metadata": {},
   "outputs": [],
   "source": [
    "word_tokenize = []\n",
    "\n",
    "for idx in range(len(df['X'])) :\n",
    "    tagging = kkma.pos(df['X'].iloc[idx])\n",
    "    for i in tagging :\n",
    "        if i[1] in use_tags :\n",
    "            word_tokenize.append(i[0])"
   ]
  },
  {
   "cell_type": "code",
   "execution_count": 9,
   "id": "f351bc3c",
   "metadata": {},
   "outputs": [
    {
     "name": "stdout",
     "output_type": "stream",
     "text": [
      "['상고', '이유', '판단', '항소심', '피고인', '출석', '개정', '원칙', '이지만', '형사', '소송법', '피고인', '항소심', '공판', '기일', '출정', '않', '기일', '정하', '정']\n"
     ]
    }
   ],
   "source": [
    "print(word_tokenize[0:20])"
   ]
  },
  {
   "cell_type": "code",
   "execution_count": 10,
   "id": "89d6c5fd",
   "metadata": {},
   "outputs": [],
   "source": [
    "# 텍스트 파일로 저장\n",
    "file_name = path + '/data/kkma_word.txt'\n",
    "with open(file_name, 'w+') as file :\n",
    "    file.write('\\n'.join(word_tokenize))"
   ]
  },
  {
   "cell_type": "code",
   "execution_count": null,
   "id": "26e62ddd",
   "metadata": {},
   "outputs": [],
   "source": [
    "# 참고 : 파일 불러올때\n",
    "word_tokenize = []\n",
    "with open(path + '/data/kkma_word.txt') as file :\n",
    "    for i in file :\n",
    "        word_tokenize.append(i.strip())\n",
    "word_tokenize[0:10]"
   ]
  }
 ],
 "metadata": {
  "kernelspec": {
   "display_name": "nlp_project",
   "language": "python",
   "name": "nlp_project"
  },
  "language_info": {
   "codemirror_mode": {
    "name": "ipython",
    "version": 3
   },
   "file_extension": ".py",
   "mimetype": "text/x-python",
   "name": "python",
   "nbconvert_exporter": "python",
   "pygments_lexer": "ipython3",
   "version": "3.7.16"
  }
 },
 "nbformat": 4,
 "nbformat_minor": 5
}

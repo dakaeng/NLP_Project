{
 "cells": [
  {
   "cell_type": "code",
   "execution_count": 1,
   "id": "8a364dd8",
   "metadata": {},
   "outputs": [],
   "source": [
    "import pandas as pd\n",
    "import numpy as np\n",
    "import re"
   ]
  },
  {
   "cell_type": "code",
   "execution_count": 2,
   "id": "ae2e6f41",
   "metadata": {},
   "outputs": [],
   "source": [
    "path = ''"
   ]
  },
  {
   "cell_type": "code",
   "execution_count": 3,
   "id": "2f8a1624",
   "metadata": {},
   "outputs": [
    {
     "name": "stdout",
     "output_type": "stream",
     "text": [
      "<class 'pandas.core.frame.DataFrame'>\n",
      "RangeIndex: 2248 entries, 0 to 2247\n",
      "Data columns (total 16 columns):\n",
      " #   Column  Non-Null Count  Dtype \n",
      "---  ------  --------------  ----- \n",
      " 0   판례일련번호  2248 non-null   int64 \n",
      " 1   사건명     2248 non-null   object\n",
      " 2   사건번호    2248 non-null   object\n",
      " 3   선고일자    2248 non-null   object\n",
      " 4   법원명     2248 non-null   object\n",
      " 5   사건종류명   2248 non-null   object\n",
      " 6   사건종류코드  2248 non-null   int64 \n",
      " 7   판결유형    2248 non-null   object\n",
      " 8   선고      2248 non-null   object\n",
      " 9   판례상세링크  2248 non-null   object\n",
      " 10  판시사항    2248 non-null   object\n",
      " 11  판결요지    2248 non-null   object\n",
      " 12  참조조문    2248 non-null   object\n",
      " 13  참조판례    2246 non-null   object\n",
      " 14  판례내용    2248 non-null   object\n",
      " 15  X       2248 non-null   object\n",
      "dtypes: int64(2), object(14)\n",
      "memory usage: 281.1+ KB\n"
     ]
    }
   ],
   "source": [
    "df = pd.read_csv(path + '/data/data_pre.csv', encoding = 'cp949')\n",
    "df.info()"
   ]
  },
  {
   "cell_type": "markdown",
   "id": "0dad6109",
   "metadata": {},
   "source": [
    "# 1. 판례내용 임베딩"
   ]
  },
  {
   "cell_type": "code",
   "execution_count": 4,
   "id": "966082f4",
   "metadata": {},
   "outputs": [],
   "source": [
    "from nltk import sent_tokenize"
   ]
  },
  {
   "cell_type": "markdown",
   "id": "4a83b881",
   "metadata": {},
   "source": [
    "## 1.1. FastText 학습"
   ]
  },
  {
   "cell_type": "code",
   "execution_count": 5,
   "id": "82482339",
   "metadata": {},
   "outputs": [
    {
     "name": "stdout",
     "output_type": "stream",
     "text": [
      "['상고', '이유', '판단', '항소심', '피고인', '출석', '개정', '원칙', '이지만', '형사']\n"
     ]
    }
   ],
   "source": [
    "word_tokenize = []\n",
    "with open(path + '/data/kkma_word.txt') as file :\n",
    "    for i in file :\n",
    "        word_tokenize.append(i.strip())\n",
    "print(word_tokenize[0:10])"
   ]
  },
  {
   "cell_type": "code",
   "execution_count": 6,
   "id": "2ffa4a26",
   "metadata": {},
   "outputs": [],
   "source": [
    "from gensim.models import FastText"
   ]
  },
  {
   "cell_type": "code",
   "execution_count": 7,
   "id": "f994eb21",
   "metadata": {},
   "outputs": [],
   "source": [
    "model = FastText(word_tokenize, vector_size = 512, window = 7, min_count = 5, workers = 4)"
   ]
  },
  {
   "cell_type": "code",
   "execution_count": 8,
   "id": "9b63a088",
   "metadata": {},
   "outputs": [],
   "source": [
    "model.save(path + '/model/fasttext/fasttext_kkma.model')"
   ]
  },
  {
   "cell_type": "markdown",
   "id": "837f3da3",
   "metadata": {},
   "source": [
    "## 1.2. 문장 토큰화"
   ]
  },
  {
   "cell_type": "markdown",
   "id": "79c4b9ec",
   "metadata": {},
   "source": [
    "##### sent_tokenize 사용"
   ]
  },
  {
   "cell_type": "code",
   "execution_count": 9,
   "id": "78323c59",
   "metadata": {},
   "outputs": [],
   "source": [
    "from tqdm import tqdm"
   ]
  },
  {
   "cell_type": "code",
   "execution_count": 10,
   "id": "51889fdf",
   "metadata": {},
   "outputs": [
    {
     "name": "stderr",
     "output_type": "stream",
     "text": [
      "100%|████████████████████████████████████████████████████████████████████████████| 2248/2248 [00:01<00:00, 1141.09it/s]\n"
     ]
    }
   ],
   "source": [
    "sentence_tokened = []\n",
    "for x in tqdm(df['X']):\n",
    "    sentence_tokened.append(sent_tokenize(x))"
   ]
  },
  {
   "cell_type": "code",
   "execution_count": 11,
   "id": "3421a6ee",
   "metadata": {},
   "outputs": [
    {
     "data": {
      "text/plain": [
       "2248"
      ]
     },
     "execution_count": 11,
     "metadata": {},
     "output_type": "execute_result"
    }
   ],
   "source": [
    "len(sentence_tokened)"
   ]
  },
  {
   "cell_type": "code",
   "execution_count": 12,
   "id": "d7334b8d",
   "metadata": {
    "scrolled": false
   },
   "outputs": [
    {
     "data": {
      "text/plain": [
       "['  상고이유를 판단한다.항소심에서도 피고인의 출석 없이 개정하지 못하는 것이 원칙이지만형사소송법   피고인이 항소심 공판기일에 출정하지 않아 기일을 정하였는데도 정당한 없이 그 기일에도 출정하지 않은 때에는 피고인의 진술 없이 판결할 수 있다형사소송법 .',\n",
       " '이와 같이 피고인이 불출석한 상태에서 그 진술 없이 판결하기 위해서는 피고인이 적법한 공판기일 통지를 받고서도 회 연속으로 정당한 이유 없이 출정하지 않은 경우에 해당하여야 한다  참조.',\n",
       " '이때 적법한 공판기일 통지란 소환장의 송달형사소송법  및 소환장 송달의 의제형사소송법 의 경우에 한정되는 것이 아니라 적어도 피고인의 이름죄명출석 일시출석 장소가 명시된 공판기일 변경명령을 송달받은 경우형사소송법 도 포함된다.',\n",
       " '기록에 따르면  원심은  피고인에 대하여 적법한 공시송달 결정을 하였고 같은 날 공판기일 변경명령도 하여 공시송달의 방법으로  이를 송달한  위 공판기일 변경명령에는 피고인의 이름죄명은 물론 제회 공판기일에 관한 일시장소까지 명시된  원심은  제회 공판기일에 피고인이 불출석하자 공판기일을 로 연기한 후 그 소환장을 공시송달의 방법으로  송달한  원심은  제회 공판기일에 피고인이 불출석한 상태에서 공판절차를 진행하여 변론을 종결한 후 선고기일 소환장을 공시송달의 방법으로  송달한  원심판결을 선고한을 알 수 있다.',\n",
       " '이와 같은관계를 앞서 본 법리에 비추어 살펴보면 원심이 제회 공판기일에 관한 공판기일 변경명령 및 제회 공판기일에 관한 소환장을 적법한 공판기일 통지로 보고 진행한 소송절차에 항소심의 불출석 재판에 관한 법령을 위반한 잘못이 없다.',\n",
       " '그러므로 상고를 기각하기로 하여 관여 대법관의 일치된 의견으로 주문과 같이 판결한다.대법관 민유숙재판장 조재연 이동원 천대엽주심']"
      ]
     },
     "execution_count": 12,
     "metadata": {},
     "output_type": "execute_result"
    }
   ],
   "source": [
    "sentence_tokened[0]"
   ]
  },
  {
   "cell_type": "markdown",
   "id": "c7828716",
   "metadata": {},
   "source": [
    "## 1.3. 문장 임베딩"
   ]
  },
  {
   "cell_type": "code",
   "execution_count": 13,
   "id": "0295ab37",
   "metadata": {},
   "outputs": [],
   "source": [
    "model = FastText.load(path + '/model/fasttext/fasttext_kkma.model')"
   ]
  },
  {
   "cell_type": "code",
   "execution_count": 14,
   "id": "3ec3ef95",
   "metadata": {},
   "outputs": [
    {
     "name": "stderr",
     "output_type": "stream",
     "text": [
      "100%|██████████████████████████████████████████████████████████████████████████████| 2248/2248 [02:37<00:00, 14.30it/s]\n"
     ]
    }
   ],
   "source": [
    "embeddings = []\n",
    "\n",
    "for sentences in tqdm(sentence_tokened):\n",
    "    embedding = None\n",
    "    count = 0\n",
    "    for sentence in sentences:\n",
    "        if embedding is None:\n",
    "            embedding = model.wv.get_sentence_vector(sentence)\n",
    "        else:\n",
    "            embedding += model.wv.get_sentence_vector(sentence)\n",
    "        count += 1\n",
    "    embeddings.append(embedding / count)"
   ]
  },
  {
   "cell_type": "markdown",
   "id": "a42c8dcf",
   "metadata": {},
   "source": [
    "## 1.4. 임베딩 값 저장"
   ]
  },
  {
   "cell_type": "code",
   "execution_count": 15,
   "id": "b1316890",
   "metadata": {},
   "outputs": [],
   "source": [
    "import pickle as pk"
   ]
  },
  {
   "cell_type": "code",
   "execution_count": 16,
   "id": "d2575f4a",
   "metadata": {},
   "outputs": [],
   "source": [
    "with open(path + '/data/fasttext_embedding.pickle', 'wb') as fw:\n",
    "    pk.dump(embeddings, fw)"
   ]
  }
 ],
 "metadata": {
  "kernelspec": {
   "display_name": "nlp_project",
   "language": "python",
   "name": "nlp_project"
  },
  "language_info": {
   "codemirror_mode": {
    "name": "ipython",
    "version": 3
   },
   "file_extension": ".py",
   "mimetype": "text/x-python",
   "name": "python",
   "nbconvert_exporter": "python",
   "pygments_lexer": "ipython3",
   "version": "3.7.16"
  }
 },
 "nbformat": 4,
 "nbformat_minor": 5
}
